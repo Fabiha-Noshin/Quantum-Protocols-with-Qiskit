{
 "cells": [
  {
   "cell_type": "markdown",
   "id": "2d1f4b3e",
   "metadata": {},
   "source": [
    "#  Implementation of BB84 Protocol:"
   ]
  },
  {
   "cell_type": "code",
   "execution_count": 1,
   "id": "4464c4b4",
   "metadata": {},
   "outputs": [],
   "source": [
    "from random import getrandbits # Importing necessary libraries\n",
    "import qiskit as q"
   ]
  },
  {
   "cell_type": "code",
   "execution_count": 2,
   "id": "0144e263",
   "metadata": {},
   "outputs": [],
   "source": [
    "def select_encoding(length):   # Function for creating random bits by sender for \n",
    "    sender_bitstring = \"\"      # sender bit string and sender bases.\n",
    "    sender_bases = \"\"\n",
    "    for i in range(length):\n",
    "        sender_bitstring += (str(getrandbits(1)))\n",
    "        sender_bases += (str(getrandbits(1)))\n",
    "    return sender_bitstring, sender_bases"
   ]
  },
  {
   "cell_type": "code",
   "execution_count": 3,
   "id": "ac297470",
   "metadata": {},
   "outputs": [],
   "source": [
    "def select_measurement(length):\n",
    "    receiver_bases = \"\"      # Creating receiver bases randomly\n",
    "    for i in range(length):\n",
    "        receiver_bases += (str(getrandbits(1)))\n",
    "    return receiver_bases"
   ]
  },
  {
   "cell_type": "code",
   "execution_count": 4,
   "id": "b108491e",
   "metadata": {},
   "outputs": [],
   "source": [
    "def encode(sender_bitstring, sender_bases):  # Encoder function to\n",
    "    encoded_qubits = []                    # be used by sender\n",
    "    for i in range(len(sender_bitstring)):\n",
    "        qc = q.QuantumCircuit(1,1)\n",
    "        if sender_bases[i] == \"0\":\n",
    "            if sender_bitstring[i] == \"0\":\n",
    "                pass\n",
    "            elif sender_bitstring[i] == \"1\":\n",
    "                qc.x(0)\n",
    "        elif sender_bases[i] == \"1\":\n",
    "            if sender_bitstring[i] == \"0\":\n",
    "                qc.h(0)\n",
    "            elif sender_bitstring[i] == \"1\":\n",
    "                qc.x(0)\n",
    "                qc.h(0)\n",
    "        encoded_qubits.append(qc)\n",
    "    return encoded_qubits"
   ]
  },
  {
   "cell_type": "code",
   "execution_count": 5,
   "id": "56c91de6",
   "metadata": {},
   "outputs": [],
   "source": [
    "def measure(receiver_bases, encoded_qubits, backend): # Measuring encoded\n",
    "    receiver_bitstring = ''                           # bits by receiver \n",
    "    for i in range(len(encoded_qubits)):  # using his/her produced bases   \n",
    "        qc = encoded_qubits[i]\n",
    "        if receiver_bases[i] == \"0\":\n",
    "            qc.measure(0,0)\n",
    "        elif receiver_bases[i] == \"1\":\n",
    "            qc.h(0)\n",
    "            qc.measure(0,0)\n",
    "        job = q.execute(qc, backend=backend, shots = 1) \n",
    "        results = job.result()\n",
    "        counts = results.get_counts()\n",
    "        measured_bit = max(counts, key=counts.get)\n",
    "        receiver_bitstring += measured_bit \n",
    "    return receiver_bitstring"
   ]
  },
  {
   "cell_type": "code",
   "execution_count": 6,
   "id": "a942766f",
   "metadata": {},
   "outputs": [],
   "source": [
    "def intercept_of_eve(encoded_qubits): # Creating situation if eve intercepts\n",
    "    eve_bases= select_measurement(len(encoded_qubits))\n",
    "    eve_measure_encoded_qubits= measure(eve_bases, encoded_qubits, q.Aer.get_backend('qasm_simulator'))\n",
    "    eve_new_bases, eve_new_bitstring= select_encoding(len(encoded_qubits))\n",
    "    eve_create_new_encoded_qubits= encode(eve_new_bases, eve_new_bitstring)\n",
    "    QUANTUM_PATH= eve_create_new_encoded_qubits\n",
    "    return QUANTUM_PATH"
   ]
  },
  {
   "cell_type": "code",
   "execution_count": 7,
   "id": "801d9a7f",
   "metadata": {},
   "outputs": [],
   "source": [
    "def receiver_compare_bases(sender_bases, receiver_bases):\n",
    "    indices = []\n",
    "    for i in range(len(sender_bases)):\n",
    "        if sender_bases[i] == receiver_bases[i]:\n",
    "            indices.append(i)\n",
    "    return indices"
   ]
  },
  {
   "cell_type": "code",
   "execution_count": 8,
   "id": "7ab8cc4b",
   "metadata": {},
   "outputs": [],
   "source": [
    "def construct_key_from_indices(bitstring, indices): # Function to make keys\n",
    "    key = ''\n",
    "    for idx in indices:\n",
    "        key = key + bitstring[idx] \n",
    "    return key"
   ]
  },
  {
   "cell_type": "code",
   "execution_count": 9,
   "id": "b3c6c3ff",
   "metadata": {},
   "outputs": [],
   "source": [
    "KEY_LENGTH = 1000     # An implementated example with/ without eve.\n",
    "QUANTUM_PATH = []\n",
    "CLASSICAL_PATH = []"
   ]
  },
  {
   "cell_type": "code",
   "execution_count": 10,
   "id": "e1f184fe",
   "metadata": {},
   "outputs": [],
   "source": [
    "sender_bitstring, sender_bases = select_encoding(KEY_LENGTH)"
   ]
  },
  {
   "cell_type": "code",
   "execution_count": 11,
   "id": "ce73bd6f",
   "metadata": {},
   "outputs": [],
   "source": [
    "receiver_bases = select_measurement(KEY_LENGTH)"
   ]
  },
  {
   "cell_type": "code",
   "execution_count": 12,
   "id": "7bd395b4",
   "metadata": {},
   "outputs": [],
   "source": [
    "encoded_qubits = encode(sender_bitstring, sender_bases)"
   ]
  },
  {
   "cell_type": "code",
   "execution_count": 13,
   "id": "9757b849",
   "metadata": {},
   "outputs": [],
   "source": [
    "QUANTUM_PATH = encoded_qubits"
   ]
  },
  {
   "cell_type": "code",
   "execution_count": 14,
   "id": "246a42a1",
   "metadata": {},
   "outputs": [],
   "source": [
    "random_situation= str(getrandbits(1))\n",
    "# print(random_situation)          # Creating random situation \n",
    "if random_situation== '0':       # Will eve intercept or not ?!\n",
    "    QUANTUM_PATH= intercept_of_eve(QUANTUM_PATH)\n",
    "elif random_situation== '1':\n",
    "    pass"
   ]
  },
  {
   "cell_type": "code",
   "execution_count": 16,
   "id": "a61e0e49",
   "metadata": {},
   "outputs": [],
   "source": [
    "sim_backend = q.Aer.get_backend('qasm_simulator') # Running in simulator\n",
    "receiver_bitstring = measure(receiver_bases, QUANTUM_PATH, sim_backend)"
   ]
  },
  {
   "cell_type": "code",
   "execution_count": 17,
   "id": "4a7d7edb",
   "metadata": {},
   "outputs": [],
   "source": [
    "CLASSICAL_PATH = sender_bases"
   ]
  },
  {
   "cell_type": "code",
   "execution_count": 18,
   "id": "be2cd8a3",
   "metadata": {},
   "outputs": [],
   "source": [
    "agreeing_bases = receiver_compare_bases(CLASSICAL_PATH, receiver_bases)"
   ]
  },
  {
   "cell_type": "code",
   "execution_count": 19,
   "id": "daacfcb2",
   "metadata": {},
   "outputs": [],
   "source": [
    "CLASSICAL_PATH = agreeing_bases"
   ]
  },
  {
   "cell_type": "code",
   "execution_count": 20,
   "id": "78332b0d",
   "metadata": {},
   "outputs": [
    {
     "name": "stdout",
     "output_type": "stream",
     "text": [
      "sender_key:  01010100000101011001110110011101010101011000011101\n",
      "receiver_key:  11000011101011111110111100101011101001111100011000\n",
      "sender's key is equal to receiver's key:  False\n",
      "The path is not secure!\n"
     ]
    }
   ],
   "source": [
    "sender_key = construct_key_from_indices(sender_bitstring, CLASSICAL_PATH)\n",
    "receiver_key = construct_key_from_indices(receiver_bitstring, agreeing_bases)\n",
    "print(\"sender_key: \", sender_key[:50])\n",
    "print(\"receiver_key: \", receiver_key[:50])\n",
    "print(\"sender's key is equal to receiver's key: \", sender_key == receiver_key)\n",
    "if sender_key != receiver_key:\n",
    "    print('The path is not secure!')\n",
    "elif sender_key == receiver_key:\n",
    "    print('The path is secured!')"
   ]
  }
 ],
 "metadata": {
  "kernelspec": {
   "display_name": "Python 3",
   "language": "python",
   "name": "python3"
  },
  "language_info": {
   "codemirror_mode": {
    "name": "ipython",
    "version": 3
   },
   "file_extension": ".py",
   "mimetype": "text/x-python",
   "name": "python",
   "nbconvert_exporter": "python",
   "pygments_lexer": "ipython3",
   "version": "3.8.10"
  }
 },
 "nbformat": 4,
 "nbformat_minor": 5
}
